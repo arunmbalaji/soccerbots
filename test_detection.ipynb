{
 "cells": [
  {
   "cell_type": "markdown",
   "metadata": {},
   "source": [
    "# Object Following - Live Demo\n",
    "\n",
    "In this notebook we'll show how you can follow an object with JetBot!  We'll use a pre-trained neural network\n",
    "that was trained on the [COCO dataset](http://cocodataset.org) to detect 90 different common objects.  These include\n",
    "\n",
    "* Person (index 0)\n",
    "* Cup (index 47)\n",
    "\n",
    "and many others (you can check [this file](https://github.com/tensorflow/models/blob/master/research/object_detection/data/mscoco_complete_label_map.pbtxt) for a full list of class indices).  The model is sourced from the [TensorFlow object detection API](https://github.com/tensorflow/models/tree/master/research/object_detection),\n",
    "which provides utilities for training object detectors for custom tasks also!  Once the model is trained, we optimize it using NVIDIA TensorRT on the Jetson Nano.\n",
    "\n",
    "This makes the network very fast, capable of real-time execution on Jetson Nano!  We won't run through all of the training and optimization steps in this notebook though.\n",
    "\n",
    "Anyways, let's get started.  First, we'll want to import the ``ObjectDetector`` class which takes our pre-trained SSD engine."
   ]
  },
  {
   "cell_type": "markdown",
   "metadata": {},
   "source": [
    "### Compute detections on single camera image"
   ]
  },
  {
   "cell_type": "code",
   "execution_count": 1,
   "metadata": {
    "slideshow": {
     "slide_type": "-"
    }
   },
   "outputs": [],
   "source": [
    "import sys\n",
    "import time\n",
    "import ctypes\n",
    "import argparse\n",
    "\n",
    "import numpy as np\n",
    "import cv2\n",
    "import pycuda.autoinit  # This is needed for initializing CUDA driver\n",
    "import pycuda.driver as cuda\n",
    "import tensorrt as trt"
   ]
  },
  {
   "cell_type": "code",
   "execution_count": 2,
   "metadata": {
    "slideshow": {
     "slide_type": "-"
    }
   },
   "outputs": [],
   "source": [
    "WINDOW_NAME = 'TrtSsdDemo'\n",
    "INPUT_WH = (300, 300)\n",
    "OUTPUT_LAYOUT = 7\n",
    "def preprocess(img):\n",
    "    \"\"\"Preprocess an image before SSD inferencing.\"\"\"\n",
    "    img = cv2.cvtColor(img, cv2.COLOR_BGR2RGB)\n",
    "    img = cv2.resize(img, INPUT_WH)\n",
    "    img = img.transpose((2, 0, 1)).astype(np.float32)\n",
    "    img = (2.0/255.0) * img - 1.0\n",
    "    return img\n",
    "\n",
    "\n",
    "def postprocess(img, output, conf_th):\n",
    "    \"\"\"Postprocess TRT SSD output.\"\"\"\n",
    "    img_h, img_w, _ = img.shape\n",
    "    boxes, confs, clss = [], [], []\n",
    "    for prefix in range(0, len(output), OUTPUT_LAYOUT):\n",
    "        #index = int(output[prefix+0])\n",
    "        conf = float(output[prefix+2])\n",
    "        if conf < conf_th:\n",
    "            continue\n",
    "        x1 = int(output[prefix+3] * img_w)\n",
    "        y1 = int(output[prefix+4] * img_h)\n",
    "        x2 = int(output[prefix+5] * img_w)\n",
    "        y2 = int(output[prefix+6] * img_h)\n",
    "        cls = int(output[prefix+1])\n",
    "        boxes.append((x1, y1, x2, y2))\n",
    "        confs.append(conf)\n",
    "        clss.append(cls)\n",
    "    return boxes, confs, clss"
   ]
  },
  {
   "cell_type": "code",
   "execution_count": 3,
   "metadata": {
    "slideshow": {
     "slide_type": "-"
    }
   },
   "outputs": [],
   "source": [
    "class TrtSSD(object):\n",
    "    \"\"\"TrtSSD class encapsulates things needed to run TRT SSD.\"\"\"\n",
    "\n",
    "    def _load_plugins(self):\n",
    "        ctypes.CDLL(\"ssd/libflattenconcat.so\")\n",
    "        trt.init_libnvinfer_plugins(self.trt_logger, '')\n",
    "\n",
    "    def _load_engine(self):\n",
    "        TRTbin = 'ssd/TRT_%s.bin' % self.model\n",
    "        with open(TRTbin, 'rb') as f, trt.Runtime(self.trt_logger) as runtime:\n",
    "            return runtime.deserialize_cuda_engine(f.read())\n",
    "\n",
    "    def _create_context(self):\n",
    "        for binding in self.engine:\n",
    "            size = trt.volume(self.engine.get_binding_shape(binding)) * \\\n",
    "                   self.engine.max_batch_size\n",
    "            host_mem = cuda.pagelocked_empty(size, np.float32)\n",
    "            cuda_mem = cuda.mem_alloc(host_mem.nbytes)\n",
    "            self.bindings.append(int(cuda_mem))\n",
    "            if self.engine.binding_is_input(binding):\n",
    "                self.host_inputs.append(host_mem)\n",
    "                self.cuda_inputs.append(cuda_mem)\n",
    "            else:\n",
    "                self.host_outputs.append(host_mem)\n",
    "                self.cuda_outputs.append(cuda_mem)\n",
    "        return self.engine.create_execution_context()\n",
    "\n",
    "    def __init__(self, model):\n",
    "        \"\"\"Initialize TensorRT plugins, engine and conetxt.\"\"\"\n",
    "        self.model = model\n",
    "        self.trt_logger = trt.Logger(trt.Logger.INFO)\n",
    "        self._load_plugins()\n",
    "        self.engine = self._load_engine()\n",
    "\n",
    "        self.host_inputs = []\n",
    "        self.cuda_inputs = []\n",
    "        self.host_outputs = []\n",
    "        self.cuda_outputs = []\n",
    "        self.bindings = []\n",
    "        self.stream = cuda.Stream()\n",
    "        self.context = self._create_context()\n",
    "\n",
    "    def __del__(self):\n",
    "        \"\"\"Free CUDA memories.\"\"\"\n",
    "        del self.stream\n",
    "        del self.cuda_outputs\n",
    "        del self.cuda_inputs\n",
    "\n",
    "    def detect(self, img, conf_th=0.3):\n",
    "        \"\"\"Detect objects in the input image.\"\"\"\n",
    "        img_resized = preprocess(img)\n",
    "        np.copyto(self.host_inputs[0], img_resized.ravel())\n",
    "\n",
    "        cuda.memcpy_htod_async(\n",
    "            self.cuda_inputs[0], self.host_inputs[0], self.stream)\n",
    "        self.context.execute_async(\n",
    "            batch_size=1,\n",
    "            bindings=self.bindings,\n",
    "            stream_handle=self.stream.handle)\n",
    "        cuda.memcpy_dtoh_async(\n",
    "            self.host_outputs[1], self.cuda_outputs[1], self.stream)\n",
    "        cuda.memcpy_dtoh_async(\n",
    "            self.host_outputs[0], self.cuda_outputs[0], self.stream)\n",
    "        self.stream.synchronize()\n",
    "\n",
    "        output = self.host_outputs[0]\n",
    "        return postprocess(img, output, conf_th)\n"
   ]
  },
  {
   "cell_type": "code",
   "execution_count": null,
   "metadata": {
    "slideshow": {
     "slide_type": "-"
    }
   },
   "outputs": [],
   "source": []
  },
  {
   "cell_type": "markdown",
   "metadata": {},
   "source": [
    "Internally, the ``ObjectDetector`` class uses the TensorRT Python API to execute the engine that we provide.  It also takes care of preprocessing the input to the neural network, as\n",
    "well as parsing the detected objects.  Right now it will only work for engines created using the ``jetbot.ssd_tensorrt`` package. That package has the utilities for converting\n",
    "the model from the TensorFlow object detection API to an optimized TensorRT engine.\n",
    "\n",
    "Next, let's initialize our camera.  Our detector takes 300x300 pixel input, so we'll set this when creating the camera.\n",
    "\n",
    "> Internally, the Camera class uses GStreamer to take advantage of Jetson Nano's Image Signal Processor (ISP).  This is super fast and offloads\n",
    "> a lot of the resizing computation from the CPU. "
   ]
  },
  {
   "cell_type": "code",
   "execution_count": 4,
   "metadata": {},
   "outputs": [
    {
     "name": "stderr",
     "output_type": "stream",
     "text": [
      "/usr/local/lib/python3.6/dist-packages/tensorflow/python/framework/dtypes.py:526: FutureWarning: Passing (type, 1) or '1type' as a synonym of type is deprecated; in a future version of numpy, it will be understood as (type, (1,)) / '(1,)type'.\n",
      "  _np_qint8 = np.dtype([(\"qint8\", np.int8, 1)])\n",
      "/usr/local/lib/python3.6/dist-packages/tensorflow/python/framework/dtypes.py:527: FutureWarning: Passing (type, 1) or '1type' as a synonym of type is deprecated; in a future version of numpy, it will be understood as (type, (1,)) / '(1,)type'.\n",
      "  _np_quint8 = np.dtype([(\"quint8\", np.uint8, 1)])\n",
      "/usr/local/lib/python3.6/dist-packages/tensorflow/python/framework/dtypes.py:528: FutureWarning: Passing (type, 1) or '1type' as a synonym of type is deprecated; in a future version of numpy, it will be understood as (type, (1,)) / '(1,)type'.\n",
      "  _np_qint16 = np.dtype([(\"qint16\", np.int16, 1)])\n",
      "/usr/local/lib/python3.6/dist-packages/tensorflow/python/framework/dtypes.py:529: FutureWarning: Passing (type, 1) or '1type' as a synonym of type is deprecated; in a future version of numpy, it will be understood as (type, (1,)) / '(1,)type'.\n",
      "  _np_quint16 = np.dtype([(\"quint16\", np.uint16, 1)])\n",
      "/usr/local/lib/python3.6/dist-packages/tensorflow/python/framework/dtypes.py:530: FutureWarning: Passing (type, 1) or '1type' as a synonym of type is deprecated; in a future version of numpy, it will be understood as (type, (1,)) / '(1,)type'.\n",
      "  _np_qint32 = np.dtype([(\"qint32\", np.int32, 1)])\n",
      "/usr/local/lib/python3.6/dist-packages/tensorflow/python/framework/dtypes.py:535: FutureWarning: Passing (type, 1) or '1type' as a synonym of type is deprecated; in a future version of numpy, it will be understood as (type, (1,)) / '(1,)type'.\n",
      "  np_resource = np.dtype([(\"resource\", np.ubyte, 1)])\n"
     ]
    }
   ],
   "source": [
    "from jetbot import Camera\n",
    "\n",
    "camera = Camera.instance(width=300, height=300)"
   ]
  },
  {
   "cell_type": "markdown",
   "metadata": {},
   "source": [
    "Now, let's execute our network using some camera input.  By default the ``ObjectDetector`` class expects ``bgr8`` format that the camera produces.  However,\n",
    "you could override the default pre-processing function if your input is in a different format."
   ]
  },
  {
   "cell_type": "code",
   "execution_count": 18,
   "metadata": {},
   "outputs": [
    {
     "data": {
      "application/vnd.jupyter.widget-view+json": {
       "model_id": "4c0e09c8239c4b989386b02cab50ddbd",
       "version_major": 2,
       "version_minor": 0
      },
      "text/plain": [
       "Image(value=b'', format='jpeg', height='300', width='300')"
      ]
     },
     "metadata": {},
     "output_type": "display_data"
    },
    {
     "ename": "AttributeError",
     "evalue": "'Tensor' object has no attribute 'ravel'",
     "output_type": "error",
     "traceback": [
      "\u001b[0;31m---------------------------------------------------------------------------\u001b[0m",
      "\u001b[0;31mAttributeError\u001b[0m                            Traceback (most recent call last)",
      "\u001b[0;32m<ipython-input-18-3ca0040c6e67>\u001b[0m in \u001b[0;36m<module>\u001b[0;34m\u001b[0m\n\u001b[1;32m     17\u001b[0m \u001b[0mtrt_ssd\u001b[0m \u001b[0;34m=\u001b[0m \u001b[0mTrtSSD\u001b[0m\u001b[0;34m(\u001b[0m\u001b[0mmodel\u001b[0m\u001b[0;34m)\u001b[0m\u001b[0;34m\u001b[0m\u001b[0;34m\u001b[0m\u001b[0m\n\u001b[1;32m     18\u001b[0m \u001b[0;31m# boxes, confs, clss = trt_ssd.detect(image, conf_th)\u001b[0m\u001b[0;34m\u001b[0m\u001b[0;34m\u001b[0m\u001b[0;34m\u001b[0m\u001b[0m\n\u001b[0;32m---> 19\u001b[0;31m \u001b[0mdetections\u001b[0m \u001b[0;34m=\u001b[0m  \u001b[0mtrt_ssd\u001b[0m\u001b[0;34m.\u001b[0m\u001b[0mdetect\u001b[0m\u001b[0;34m(\u001b[0m\u001b[0mimage\u001b[0m\u001b[0;34m,\u001b[0m \u001b[0mconf_th\u001b[0m\u001b[0;34m)\u001b[0m\u001b[0;34m\u001b[0m\u001b[0;34m\u001b[0m\u001b[0m\n\u001b[0m\u001b[1;32m     20\u001b[0m \u001b[0mprint\u001b[0m\u001b[0;34m(\u001b[0m\u001b[0mdetections\u001b[0m\u001b[0;34m)\u001b[0m\u001b[0;34m\u001b[0m\u001b[0;34m\u001b[0m\u001b[0m\n\u001b[1;32m     21\u001b[0m \u001b[0;34m\u001b[0m\u001b[0m\n",
      "\u001b[0;32m<ipython-input-3-b0f418248e37>\u001b[0m in \u001b[0;36mdetect\u001b[0;34m(self, img, conf_th)\u001b[0m\n\u001b[1;32m     50\u001b[0m         \u001b[0;34m\"\"\"Detect objects in the input image.\"\"\"\u001b[0m\u001b[0;34m\u001b[0m\u001b[0;34m\u001b[0m\u001b[0m\n\u001b[1;32m     51\u001b[0m         \u001b[0mimg_resized\u001b[0m \u001b[0;34m=\u001b[0m \u001b[0mpreprocess\u001b[0m\u001b[0;34m(\u001b[0m\u001b[0mimg\u001b[0m\u001b[0;34m)\u001b[0m\u001b[0;34m\u001b[0m\u001b[0;34m\u001b[0m\u001b[0m\n\u001b[0;32m---> 52\u001b[0;31m         \u001b[0mnp\u001b[0m\u001b[0;34m.\u001b[0m\u001b[0mcopyto\u001b[0m\u001b[0;34m(\u001b[0m\u001b[0mself\u001b[0m\u001b[0;34m.\u001b[0m\u001b[0mhost_inputs\u001b[0m\u001b[0;34m[\u001b[0m\u001b[0;36m0\u001b[0m\u001b[0;34m]\u001b[0m\u001b[0;34m,\u001b[0m \u001b[0mimg_resized\u001b[0m\u001b[0;34m.\u001b[0m\u001b[0mravel\u001b[0m\u001b[0;34m(\u001b[0m\u001b[0;34m)\u001b[0m\u001b[0;34m)\u001b[0m\u001b[0;34m\u001b[0m\u001b[0;34m\u001b[0m\u001b[0m\n\u001b[0m\u001b[1;32m     53\u001b[0m \u001b[0;34m\u001b[0m\u001b[0m\n\u001b[1;32m     54\u001b[0m         cuda.memcpy_htod_async(\n",
      "\u001b[0;31mAttributeError\u001b[0m: 'Tensor' object has no attribute 'ravel'"
     ]
    }
   ],
   "source": [
    "import traitlets\n",
    "import ipywidgets.widgets as widgets\n",
    "from jetbot import bgr8_to_jpeg\n",
    "import cv2\n",
    "\n",
    "image=camera.value\n",
    "\n",
    "image_widget = widgets.Image(format='jpeg', width=300, height=300)\n",
    "width = int(image_widget.width)\n",
    "height = int(image_widget.height)\n",
    "display(image_widget)\n",
    "# detections = model(image)\n",
    "\n",
    "conf_th = 0.3\n",
    "model = 'ssd_mobilenet_v2_egohands'\n",
    "\n",
    "trt_ssd = TrtSSD(model)\n",
    "# boxes, confs, clss = trt_ssd.detect(image, conf_th)\n",
    "detections =  trt_ssd.detect(image, conf_th)\n",
    "print(detections)\n",
    "\n",
    "\n",
    "# for det in detections[0]:\n",
    "#     bbox = det['bbox']\n",
    "#     cv2.rectangle(image, (int(width * bbox[0]), int(height * bbox[1])), (int(width * bbox[2]), int(height * bbox[3])), (255, 0, 0), 2)\n",
    "    \n",
    "\n",
    "image_widget.value = bgr8_to_jpeg(image)\n",
    "\n",
    "# print(detections)"
   ]
  },
  {
   "cell_type": "markdown",
   "metadata": {},
   "source": [
    "If there are any COCO objects in the camera's field of view, they should now be stored in the ``detections`` variable."
   ]
  },
  {
   "cell_type": "markdown",
   "metadata": {},
   "source": [
    "### Display detections in text area\n",
    "\n",
    "We'll use the code below to print out the detected objects."
   ]
  },
  {
   "cell_type": "code",
   "execution_count": 10,
   "metadata": {},
   "outputs": [
    {
     "data": {
      "application/vnd.jupyter.widget-view+json": {
       "model_id": "9deabe7e13634097bc949ca13593dc1b",
       "version_major": 2,
       "version_minor": 0
      },
      "text/plain": [
       "Textarea(value='([(109, 57, 126, 81)], [0.9851575493812561], [1])')"
      ]
     },
     "metadata": {},
     "output_type": "display_data"
    }
   ],
   "source": [
    "from IPython.display import display\n",
    "import ipywidgets.widgets as widgets\n",
    "\n",
    "\n",
    "detections_widget = widgets.Textarea()\n",
    "\n",
    "detections_widget.value = str(detections)\n",
    "\n",
    "display(detections_widget)"
   ]
  },
  {
   "cell_type": "markdown",
   "metadata": {},
   "source": [
    "You should see the label, confidence, and bounding box of each object detected in each image.  There's only one image (our camera) in this example. \n",
    "\n",
    "\n",
    "To print just the first object detected in the first image, we could call the following\n",
    "\n",
    "> This may throw an error if no objects are detected"
   ]
  },
  {
   "cell_type": "code",
   "execution_count": 11,
   "metadata": {},
   "outputs": [
    {
     "name": "stdout",
     "output_type": "stream",
     "text": [
      "(109, 57, 126, 81)\n"
     ]
    }
   ],
   "source": [
    "image_number = 0\n",
    "object_number = 0\n",
    "\n",
    "print(detections[image_number][object_number])"
   ]
  },
  {
   "cell_type": "markdown",
   "metadata": {},
   "source": [
    "### Control robot to follow central object\n",
    "\n",
    "Now we want our robot to follow an object of the specified class.  To do this we'll do the following\n",
    "\n",
    "1.  Detect objects matching the specified class\n",
    "2.  Select object closest to center of camera's field of vision, this is the 'target' object\n",
    "3.  Steer robot towards target object, otherwise wander\n",
    "4.  If we're blocked by an obstacle, turn left\n",
    "\n",
    "We'll also create some widgets that we'll use to control the target object label, the robot speed, and\n",
    "a \"turn gain\", that will control how fast the robot turns based off the distance between the target object\n",
    "and the center of the robot's field of view. \n",
    "\n",
    "\n",
    "First, let's load our collision detection model.  The pre-trained model is stored in this directory as a convenience, but if you followed\n",
    "the collision avoidance example you may want to use that model if it's better tuned for your robot's environment."
   ]
  },
  {
   "cell_type": "code",
   "execution_count": 12,
   "metadata": {},
   "outputs": [],
   "source": [
    "import torch\n",
    "import torchvision\n",
    "import torch.nn.functional as F\n",
    "import cv2\n",
    "import numpy as np\n",
    "\n",
    "collision_model = torchvision.models.alexnet(pretrained=False)\n",
    "collision_model.classifier[6] = torch.nn.Linear(collision_model.classifier[6].in_features, 7)\n",
    "collision_model.load_state_dict(torch.load('best_model.pth'))\n",
    "device = torch.device('cuda')\n",
    "collision_model = collision_model.to(device)\n",
    "\n",
    "mean = 255.0 * np.array([0.485, 0.456, 0.406])\n",
    "stdev = 255.0 * np.array([0.229, 0.224, 0.225])\n",
    "\n",
    "normalize = torchvision.transforms.Normalize(mean, stdev)\n",
    "\n",
    "def preprocess(camera_value):\n",
    "    global device, normalize\n",
    "    x = camera_value\n",
    "    x = cv2.resize(x, (224, 224))\n",
    "    x = cv2.cvtColor(x, cv2.COLOR_BGR2RGB)\n",
    "    x = x.transpose((2, 0, 1))\n",
    "    x = torch.from_numpy(x).float()\n",
    "    x = normalize(x)\n",
    "    x = x.to(device)\n",
    "    x = x[None, ...]\n",
    "    return x"
   ]
  },
  {
   "cell_type": "markdown",
   "metadata": {},
   "source": [
    "Great, now let's initialize our robot so we can control the motors."
   ]
  },
  {
   "cell_type": "code",
   "execution_count": 13,
   "metadata": {},
   "outputs": [],
   "source": [
    "from jetbot import Robot\n",
    "\n",
    "robot = Robot()"
   ]
  },
  {
   "cell_type": "markdown",
   "metadata": {},
   "source": [
    "Finally, let's display all the control widgets and connect the network execution function to the camera updates."
   ]
  },
  {
   "cell_type": "code",
   "execution_count": 14,
   "metadata": {},
   "outputs": [
    {
     "name": "stdout",
     "output_type": "stream",
     "text": [
      "in execute\n",
      "0.878229558467865\n"
     ]
    }
   ],
   "source": [
    "from jetbot import bgr8_to_jpeg\n",
    "import time\n",
    "\n",
    "turn_left = 1\n",
    "blocked_widget = widgets.FloatSlider(min=0.0, max=1.0, value=0.0, description='blocked')\n",
    "red_widget = widgets.FloatSlider(min=0.0, max=1.0, value=0.0, description='red')\n",
    "blue_widget = widgets.FloatSlider(min=0.0, max=1.0, value=0.0, description='blue')\n",
    "green_widget = widgets.FloatSlider(min=0.0, max=1.0, value=0.0, description='green')\n",
    "yellow_widget = widgets.FloatSlider(min=0.0, max=1.0, value=0.0, description='yellow')\n",
    "free_widget = widgets.FloatSlider(min=0.0, max=1.0, value=0.0, description='free')\n",
    "\n",
    "image_widget = widgets.Image(format='jpeg', width=300, height=300)\n",
    "label_widget = widgets.IntText(value=1, description='tracked label')\n",
    "speed_widget = widgets.FloatSlider(value=0.4, min=0.0, max=1.0, description='speed')\n",
    "turn_gain_widget = widgets.FloatSlider(value=0.8, min=0.0, max=2.0, description='turn gain')\n",
    "\n",
    "display(widgets.VBox([\n",
    "    widgets.HBox([image_widget, blocked_widget]),\n",
    "    widgets.HBox([red_widget,blue_widget]),\n",
    "    widgets.HBox([green_widget,yellow_widget]),\n",
    "    free_widget,\n",
    "    label_widget,\n",
    "    speed_widget,\n",
    "    turn_gain_widget\n",
    "]))\n",
    "\n",
    "width = int(image_widget.width)\n",
    "height = int(image_widget.height)\n",
    "\n",
    "def detection_center(detection):\n",
    "    \"\"\"Computes the center x, y coordinates of the object\"\"\"\n",
    "    bbox = detection\n",
    "    center_x = (bbox[0] + bbox[2]) / 2.0 - 0.5\n",
    "    center_y = (bbox[1] + bbox[3]) / 2.0 - 0.5\n",
    "    return (center_x, center_y)\n",
    "    \n",
    "def norm(vec):\n",
    "    \"\"\"Computes the length of the 2D vector\"\"\"\n",
    "    return np.sqrt(vec[0]**2 + vec[1]**2)\n",
    "\n",
    "def closest_detection(detections):\n",
    "    \"\"\"Finds the detection closest to the image center\"\"\"\n",
    "    closest_detection = None\n",
    "    for det in detections:\n",
    "        center = detection_center(det)\n",
    "        if closest_detection is None:\n",
    "            closest_detection = det\n",
    "        elif norm(detection_center(det)) < norm(detection_center(closest_detection)):\n",
    "            closest_detection = det\n",
    "    return closest_detection\n",
    "        \n",
    "def execute(change):\n",
    "    global turn_left\n",
    "    image = change['new']\n",
    "    print(\"in execute\")\n",
    "    \n",
    "    # execute collision model to determine if blocked\n",
    "    collision_output = collision_model(preprocess(image)).detach().cpu()\n",
    "    y = F.softmax(collision_output.flatten(), dim=0)\n",
    "    y = y.flatten()\n",
    "#     prob_blocked = float(F.softmax(collision_output.flatten(), dim=0)[0])\n",
    "    prob_blocked = float(y[0])\n",
    "    prob_blue = float(y[1])\n",
    "    prob_free = float(y[2])\n",
    "    prob_green = float(y[3])\n",
    "    prob_hit = float(y[4])\n",
    "    prob_red = float(y[5])\n",
    "    prob_yellow = float(y[6])\n",
    "#     blocked_widget.value = prob_blocked\n",
    "#     red_widget.value = prob_red\n",
    "#     blue_widget.value = prob_blue\n",
    "#     green_widget.value = prob_green\n",
    "#     yellow_widget.value = prob_yellow\n",
    "#     free_widget.value = prob_free\n",
    "    print(prob_blocked)\n",
    "    image_widget.value = bgr8_to_jpeg(image)\n",
    "    \n",
    "    # turn left if blocked\n",
    "    if prob_free > 0.4:\n",
    "        robot.forward(0.2)\n",
    "    elif prob_red > 0.5 or prob_yellow > 0.5 or prob_green > 0.5 or prob_blue > 0.5 :\n",
    "        robot.left(0.1)\n",
    "        image_widget.value = bgr8_to_jpeg(image)\n",
    "        return\n",
    "    elif prob_blocked > 0.6:\n",
    "#         robot.backward(0.1)\n",
    "#         time.sleep(0.25)\n",
    "        robot.left(0.2)\n",
    "        return\n",
    "    elif prob_hit > 0.5:\n",
    "        print(\"Entered into hit\")\n",
    "        camera.unobserve_all()\n",
    "        time.sleep(1.0)\n",
    "        robot.stop()\n",
    "#         robot.backward(0.2)\n",
    "        time.sleep(0.5)\n",
    "        robot.forward(0.4)\n",
    "        time.sleep(0.5)\n",
    "        robot.stop()\n",
    "        time.sleep(2)\n",
    "        camera.observe(execute, names='value')\n",
    "        print(\"Exiting hit\")\n",
    "        return\n",
    "        \n",
    "    # compute all detected objects\n",
    "#     detections = model(image)\n",
    "    bbox, confs, clss = trt_ssd.detect(image, conf_th)\n",
    "    \n",
    "    # draw all detections on image\n",
    "#     for det in detections[0]:\n",
    "#         bbox = det['bbox']\n",
    "#         cv2.rectangle(image, (int(width * bbox[0]), int(height * bbox[1])), (int(width * bbox[2]), int(height * bbox[3])), (255, 0, 0), 2)\n",
    "    \n",
    "    # select detections that match selected class label\n",
    "#     matching_detections = [d for d in detections[0] if d['label'] == 37]\n",
    "    \n",
    "    # get detection closest to center of field of view and draw it\n",
    "#     det = closest_detection(matching_detections)\n",
    "#     if det is not None:\n",
    "#         bbox = det['bbox']\n",
    "    if bbox is not None:\n",
    "        cv2.rectangle(image, (int(width * bbox[0]), int(height * bbox[1])), (int(width * bbox[2]), int(height * bbox[3])), (0, 255, 0), 5)\n",
    "    \n",
    "    \n",
    "        \n",
    "    # otherwise go forward if no target detected\n",
    "    if bbox is None:\n",
    "#         robot.left(0.2)\n",
    "        robot.forward(0.2)\n",
    "        \n",
    "    # otherwsie steer towards target\n",
    "    else:\n",
    "        print(\"Entering ball detect\")\n",
    "        # move robot forward and steer proportional target's x-distance from center\n",
    "        camera.unobserve_all()\n",
    "        time.sleep(0.5)\n",
    "        center = detection_center(bbox)\n",
    "        print(center)\n",
    "#         turn_g = turn_gain_widget.value\n",
    "        turn_g = 0.30\n",
    "        speed_g = speed_widget.value\n",
    "        robot.set_motors(\n",
    "            float(speed_g + turn_g * center[0]),\n",
    "            float(speed_g - turn_g * center[0])\n",
    "        )\n",
    "        robot.stop()\n",
    "        time.sleep(2)\n",
    "        camera.observe(execute, names='value')\n",
    "        print(\"Exiting ball detect\")\n",
    "    \n",
    "    # update image widget\n",
    "    image_widget.value = bgr8_to_jpeg(image)\n",
    "    \n",
    "execute({'new': camera.value})"
   ]
  },
  {
   "cell_type": "markdown",
   "metadata": {},
   "source": [
    "Call the block below to connect the execute function to each camera frame update."
   ]
  },
  {
   "cell_type": "code",
   "execution_count": 15,
   "metadata": {},
   "outputs": [],
   "source": [
    "camera.unobserve_all()\n",
    "camera.observe(execute, names='value')"
   ]
  },
  {
   "cell_type": "markdown",
   "metadata": {},
   "source": [
    "Awesome!  If the robot is not blocked you should see boxes drawn around the detected objects in blue.  The target object (which the robot follows) will be displayed in green.\n",
    "\n",
    "The robot should steer towards the target when it is detected.  If it is blocked by an object it will simply turn left.\n",
    "\n",
    "You can call the code block below to manually disconnect the processing from the camera and stop the robot."
   ]
  },
  {
   "cell_type": "code",
   "execution_count": 16,
   "metadata": {},
   "outputs": [],
   "source": [
    "\n",
    "\n",
    "camera.unobserve_all()\n",
    "time.sleep(1.0)\n",
    "robot.stop()"
   ]
  },
  {
   "cell_type": "code",
   "execution_count": null,
   "metadata": {},
   "outputs": [],
   "source": []
  }
 ],
 "metadata": {
  "kernelspec": {
   "display_name": "Python 3",
   "language": "python",
   "name": "python3"
  },
  "language_info": {
   "codemirror_mode": {
    "name": "ipython",
    "version": 3
   },
   "file_extension": ".py",
   "mimetype": "text/x-python",
   "name": "python",
   "nbconvert_exporter": "python",
   "pygments_lexer": "ipython3",
   "version": "3.6.8"
  }
 },
 "nbformat": 4,
 "nbformat_minor": 2
}
